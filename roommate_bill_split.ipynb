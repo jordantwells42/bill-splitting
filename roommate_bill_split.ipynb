{
 "cells": [
  {
   "cell_type": "markdown",
   "metadata": {},
   "source": [
    "# Roommate Bill Splitting\n",
    "Takes in a CSV file thas has to have the following headers, but can optionally have any others"
   ]
  },
  {
   "cell_type": "markdown",
   "metadata": {},
   "source": [
    "| Amount | Purchaser | Paid |"
   ]
  },
  {
   "cell_type": "markdown",
   "metadata": {},
   "source": [
    "Where \"**Amount**\" is a float, optionally with a $, \"**Purchaser**\" is a string of who made the purchase, and \"**Paid**\" is a string of either \"Yes\" or \"No\" which determines whether it has been paid"
   ]
  },
  {
   "cell_type": "code",
   "execution_count": 1,
   "metadata": {},
   "outputs": [],
   "source": [
    "import numpy as np\n",
    "import pandas as pd\n",
    "import math\n",
    "from itertools import combinations"
   ]
  },
  {
   "cell_type": "markdown",
   "metadata": {},
   "source": [
    "### Grabbing list of roommates"
   ]
  },
  {
   "cell_type": "code",
   "execution_count": 2,
   "metadata": {},
   "outputs": [
    {
     "name": "stdout",
     "output_type": "stream",
     "text": [
      "How Many Roommates/People: 4\n",
      "Input roommate 1's name: John\n",
      "Input roommate 2's name: Adam\n",
      "Input roommate 3's name: Raul\n",
      "Input roommate 4's name: Stacy\n"
     ]
    }
   ],
   "source": [
    "num_rmmts = int(input(\"How Many Roommates/People: \"))\n",
    "\n",
    "# Generating a list of roommates\n",
    "rmmts = []\n",
    "for i in range(num_rmmts):\n",
    "    rmmts.append(input(f\"Input roommate {str(i+1)}'s name: \").lower())"
   ]
  },
  {
   "cell_type": "markdown",
   "metadata": {},
   "source": [
    "### Extracting data from CSV \n",
    "Make sure this is placed in the same folder as this script"
   ]
  },
  {
   "cell_type": "code",
   "execution_count": 3,
   "metadata": {},
   "outputs": [
    {
     "name": "stdout",
     "output_type": "stream",
     "text": [
      "Input CSV name: expenses\n"
     ]
    }
   ],
   "source": [
    "csv_to_read = input(\"Input CSV name: \")\n",
    "\n",
    "# Importing the CSV as a Pandas DataFrame\n",
    "expenses = pd.read_csv(f\"{csv_to_read}.csv\")"
   ]
  },
  {
   "cell_type": "code",
   "execution_count": 4,
   "metadata": {},
   "outputs": [],
   "source": [
    "expense_list = []\n",
    "\n",
    "# Grabbing only the \"Amount\", \"Purchaser\", and \"Paid\" columns\n",
    "for i in range(len(expenses)):\n",
    "    expense_list.append(list(expenses.loc[i, [\"Amount\", \"Purchaser\", \"Paid\"]]))"
   ]
  },
  {
   "cell_type": "markdown",
   "metadata": {},
   "source": [
    "### Creating payments matrix"
   ]
  },
  {
   "cell_type": "code",
   "execution_count": 5,
   "metadata": {},
   "outputs": [],
   "source": [
    "# Creating a num_rmmts x num_rmmts matrix of payments\n",
    "# where (i, j) represents an amount that \n",
    "# the person associated with index number j owes person i\n",
    "\n",
    "payments_matrix = np.zeros(shape = [num_rmmts, num_rmmts])\n",
    "\n",
    "for expense in expense_list:                              # For each expense\n",
    "    if expense[2].lower() == \"no\":                        # if it hasn't been paid yet\n",
    "        total_cost = float(expense[0].split(\"$\")[-1])     # find its total cost\n",
    "        cost = total_cost / int(num_rmmts)                # and divide it by the number of roommates\n",
    "        \n",
    "        try:                                              # try to \n",
    "            purchaser =  rmmts.index(expense[1].lower())  # find a roommate which matches the expense purchaser\n",
    "        except Exception as e:                            # and if not\n",
    "            print(f\"WARNING: {e}\")                        # print an error message\n",
    "            break                                         # and break the code\n",
    "            \n",
    "        for i in range(len(payments_matrix[purchaser])):  # For each roommate\n",
    "               if i != purchaser:                         # if it isn't the purchaser\n",
    "                    payments_matrix[purchaser][i] += cost # add the divided cost to their debt"
   ]
  },
  {
   "cell_type": "code",
   "execution_count": 6,
   "metadata": {},
   "outputs": [],
   "source": [
    "# Generating a list of pairs of roommates\n",
    "pairs = list(combinations(range(num_rmmts), 2))\n",
    "final_payments = np.zeros(int(num_rmmts * (num_rmmts - 1) / 2))\n",
    "\n",
    "# Generating the final list of payments\n",
    "for i, pair  in enumerate(pairs):\n",
    "    final_payments[i] += -1 * payments_matrix[pair[0], pair[1]]\n",
    "    final_payments[i] += payments_matrix[pair[1], pair[0]]"
   ]
  },
  {
   "cell_type": "markdown",
   "metadata": {},
   "source": [
    "### Printing final payments"
   ]
  },
  {
   "cell_type": "code",
   "execution_count": 7,
   "metadata": {},
   "outputs": [
    {
     "name": "stdout",
     "output_type": "stream",
     "text": [
      "Adam owes John $1.25\n",
      "John owes Raul $35.00\n",
      "Stacy owes John $12.50\n",
      "Adam owes Raul $36.25\n",
      "Stacy owes Adam $11.25\n",
      "Stacy owes Raul $47.50\n"
     ]
    }
   ],
   "source": [
    "for i, payment in enumerate(final_payments):\n",
    "    if payment > 0:\n",
    "        print(f\"{rmmts[pairs[i][0]].capitalize()} owes {rmmts[pairs[i][1]].capitalize()} ${final_payments[i]:.2f}\")\n",
    "    elif payment < 0:\n",
    "        print(f\"{rmmts[pairs[i][1]].capitalize()} owes {rmmts[pairs[i][0]].capitalize()} ${-1 * final_payments[i]:.2f}\")\n",
    "    else:\n",
    "        print(f\"{rmmts[pairs[i][1]].capitalize()} owes {rmmts[pairs[i][0]].capitalize()} nothing\")"
   ]
  }
 ],
 "metadata": {
  "kernelspec": {
   "display_name": "Python 3",
   "language": "python",
   "name": "python3"
  },
  "language_info": {
   "codemirror_mode": {
    "name": "ipython",
    "version": 3
   },
   "file_extension": ".py",
   "mimetype": "text/x-python",
   "name": "python",
   "nbconvert_exporter": "python",
   "pygments_lexer": "ipython3",
   "version": "3.8.3"
  }
 },
 "nbformat": 4,
 "nbformat_minor": 4
}
